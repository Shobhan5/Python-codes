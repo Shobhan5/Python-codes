{
 "cells": [
  {
   "cell_type": "code",
   "execution_count": 12,
   "id": "10068cde-40dc-40f8-988e-bdceaab6d349",
   "metadata": {
    "tags": []
   },
   "outputs": [
    {
     "name": "stdout",
     "output_type": "stream",
     "text": [
      "Solution:\n",
      "x = -0.0714285714285714\n",
      "y = -0.023809523809523808\n",
      "z = 0.047619047619047616\n"
     ]
    }
   ],
   "source": [
    "import numpy as np\n",
    "\n",
    "# Coefficient matrix\n",
    "A = np.array([[-6, -2, 4],\n",
    "              [-3, -1, 2],\n",
    "              [-3, -1, 2]])\n",
    "\n",
    "# Right-hand side vector\n",
    "B = np.array([8, -11, -3])\n",
    "\n",
    "# Calculate the pseudoinverse of A\n",
    "A_pseudo_inv = np.linalg.pinv(A)\n",
    "\n",
    "# Calculate the solution using the pseudoinverse\n",
    "X = np.dot(A_pseudo_inv, B)\n",
    "\n",
    "print(\"Solution:\")\n",
    "print(\"x =\", X[0])\n",
    "print(\"y =\", X[1])\n",
    "print(\"z =\", X[2])\n"
   ]
  },
  {
   "cell_type": "code",
   "execution_count": 14,
   "id": "12d0bf0e-9443-4cc6-ae60-2c7703ed7e2c",
   "metadata": {
    "tags": []
   },
   "outputs": [
    {
     "name": "stdout",
     "output_type": "stream",
     "text": [
      "Solution:\n",
      "x = 2.0000000000000004\n",
      "y = 2.9999999999999996\n",
      "z = -0.9999999999999991\n"
     ]
    }
   ],
   "source": [
    "import numpy as np\n",
    "\n",
    "# Coefficient matrix\n",
    "A = np.array([[2, 1, -1],\n",
    "              [-3, -1, 2],\n",
    "              [-2, 1, 2]])\n",
    "\n",
    "# Right-hand side vector\n",
    "B = np.array([8, -11, -3])\n",
    "\n",
    "# Solve the system of equations\n",
    "X = np.linalg.solve(A, B)\n",
    "\n",
    "print(\"Solution:\")\n",
    "print(\"x =\", X[0])\n",
    "print(\"y =\", X[1])\n",
    "print(\"z =\", X[2])\n"
   ]
  },
  {
   "cell_type": "code",
   "execution_count": 21,
   "id": "183b7dc5-affb-44aa-978e-e362250e1bf4",
   "metadata": {
    "tags": []
   },
   "outputs": [
    {
     "name": "stdout",
     "output_type": "stream",
     "text": [
      "[[ 1.66666667  0.33333333 -3.66666667]\n",
      " [-2.33333333  0.33333333  3.33333333]\n",
      " [ 1.33333333 -0.33333333 -1.33333333]]\n",
      "[-44.33333333  42.66666667 -16.66666667]\n",
      "[-44.33333333  42.66666667 -16.66666667]\n",
      "[-44.33333333  42.66666667 -16.66666667]\n"
     ]
    }
   ],
   "source": [
    "A=np.array([[2,5,7],\n",
    "            [4,8,9],\n",
    "            [1,3,4]])\n",
    "b=np.array([8,14,17])\n",
    "A_inv=np.linalg.inv(A)\n",
    "print(A_inv)\n",
    "X=np.dot(A_inv,b)\n",
    "print(X)\n",
    "X=A_inv@b\n",
    "print(X)\n",
    "X=np.matmul(A_inv,b)\n",
    "print(X)"
   ]
  },
  {
   "cell_type": "code",
   "execution_count": 23,
   "id": "a6c9b423-e699-4c1f-8c2f-20b0aaf054af",
   "metadata": {
    "tags": []
   },
   "outputs": [
    {
     "data": {
      "text/plain": [
       "array([-44.33333333,  42.66666667, -16.66666667])"
      ]
     },
     "execution_count": 23,
     "metadata": {},
     "output_type": "execute_result"
    }
   ],
   "source": [
    "A=np.array([[2,5,7],\n",
    "            [4,8,9],\n",
    "            [1,3,4]])\n",
    "b=np.array([8,14,17])\n",
    "X=np.linalg.solve(A,b)\n",
    "X"
   ]
  },
  {
   "cell_type": "code",
   "execution_count": 29,
   "id": "6c25f0d1-02a9-45e2-9d85-bb05e5edb09f",
   "metadata": {
    "tags": []
   },
   "outputs": [
    {
     "data": {
      "text/plain": [
       "array([0.23264798, 0.18629283, 0.05632399])"
      ]
     },
     "execution_count": 29,
     "metadata": {},
     "output_type": "execute_result"
    }
   ],
   "source": [
    "S=np.array([[4,5,6],\n",
    "            [8,10,12],\n",
    "            [1,20,54]])\n",
    "c=np.array([1,5,7])\n",
    "X=np.linalg.pinv(S)\n",
    "A=X@c\n",
    "A"
   ]
  },
  {
   "cell_type": "code",
   "execution_count": 43,
   "id": "6dfe6f90-1d95-4203-96bc-c5573b6783e4",
   "metadata": {
    "tags": []
   },
   "outputs": [
    {
     "name": "stdout",
     "output_type": "stream",
     "text": [
      "[0, array([-2., -1.]), array([3., 2.]), array([4., 2.])]\n"
     ]
    }
   ],
   "source": [
    "x,y=np.array([0,0])\n",
    "J=np.array([[np.exp(x),-1],[1,-2]])\n",
    "x,y =x,y-np.linalg.inv(J.T@J)@J.T@np.array([(np.exp(x)-y),(x-2*y)])\n",
    "print([x,y,(np.exp(x)-y),(x-2*y)])"
   ]
  },
  {
   "cell_type": "code",
   "execution_count": 42,
   "id": "c545f45e-0182-4f5e-9daa-9c6b485f15c1",
   "metadata": {
    "tags": []
   },
   "outputs": [
    {
     "data": {
      "text/plain": [
       "([], (x, y))"
      ]
     },
     "execution_count": 42,
     "metadata": {},
     "output_type": "execute_result"
    }
   ],
   "source": [
    "import sympy as sm\n",
    "x,y=sm.symbols('x,y')\n",
    "sm.solve(sm.exp(x)-y,x-2*y),(x,y)\n"
   ]
  },
  {
   "cell_type": "markdown",
   "id": "794972ea",
   "metadata": {},
   "source": [
    "# DSA begins! cheers!"
   ]
  },
  {
   "cell_type": "code",
   "execution_count": 2,
   "id": "61751226",
   "metadata": {},
   "outputs": [],
   "source": [
    "l=[2,4,6,7,7]"
   ]
  },
  {
   "cell_type": "code",
   "execution_count": 4,
   "id": "5335568b",
   "metadata": {},
   "outputs": [
    {
     "data": {
      "text/plain": [
       "[2, 4, 6, 7, 7]"
      ]
     },
     "execution_count": 4,
     "metadata": {},
     "output_type": "execute_result"
    }
   ],
   "source": [
    "l"
   ]
  },
  {
   "cell_type": "code",
   "execution_count": 6,
   "id": "a99b2a22",
   "metadata": {},
   "outputs": [
    {
     "name": "stdout",
     "output_type": "stream",
     "text": [
      "[2, 4, 6, 7, 7, 3, 3, 3, 3, 3, 3]\n"
     ]
    }
   ],
   "source": [
    "for i in range(1,4):\n",
    "    l.append(3)\n",
    "print(l)"
   ]
  },
  {
   "cell_type": "code",
   "execution_count": 18,
   "id": "19672721",
   "metadata": {},
   "outputs": [
    {
     "data": {
      "text/plain": [
       "27.54"
      ]
     },
     "execution_count": 18,
     "metadata": {},
     "output_type": "execute_result"
    }
   ],
   "source": [
    "a= [4,8,9.7,75,41]\n",
    "def mean(a):\n",
    "    sum=0\n",
    "    for i in a:\n",
    "        sum=sum+i\n",
    "    return sum/len(a)\n",
    "mean(a)"
   ]
  },
  {
   "cell_type": "code",
   "execution_count": 60,
   "id": "55ad3bce",
   "metadata": {},
   "outputs": [
    {
     "name": "stdout",
     "output_type": "stream",
     "text": [
      "2 shobhan\n",
      "4 shobhan\n",
      "6 shobhan\n",
      "7 shobhan\n"
     ]
    }
   ],
   "source": [
    "d=[2,4,6,7]\n",
    "for i in d:\n",
    "    print((i),\"shobhan\")"
   ]
  },
  {
   "cell_type": "code",
   "execution_count": 116,
   "id": "54f2e399",
   "metadata": {},
   "outputs": [
    {
     "name": "stdout",
     "output_type": "stream",
     "text": [
      "('odd :', [1, 3, 5, 7, 9], 'even:', [2, 4, 6, 8, 10])\n"
     ]
    }
   ],
   "source": [
    "s=[1,2,3,4,5,6,7,8,9,10]\n",
    "def oddeven(s):\n",
    "    odd=[]\n",
    "    even=[]\n",
    "    for i in s:\n",
    "        if i%2==0:\n",
    "            even.append(i)\n",
    "        else:\n",
    "            odd.append(i)\n",
    "    return \"odd :\" ,odd,\"even:\",even\n",
    "print(oddeven(s))\n",
    "   "
   ]
  },
  {
   "cell_type": "code",
   "execution_count": 126,
   "id": "8fcf2e61",
   "metadata": {},
   "outputs": [
    {
     "name": "stdout",
     "output_type": "stream",
     "text": [
      "[12, 25, 45]\n"
     ]
    }
   ],
   "source": [
    "s=[12,25,45,78,56,100]\n",
    "d=56\n",
    "def sm(s):\n",
    "    small=[]\n",
    "    for i in s:\n",
    "        if i<d:\n",
    "            small.append(i)\n",
    "    return small\n",
    "print(sm(s))"
   ]
  },
  {
   "cell_type": "code",
   "execution_count": 128,
   "id": "2abdad1e",
   "metadata": {},
   "outputs": [
    {
     "data": {
      "text/plain": [
       "140723222123368"
      ]
     },
     "execution_count": 128,
     "metadata": {},
     "output_type": "execute_result"
    }
   ],
   "source": [
    "id(3)"
   ]
  },
  {
   "cell_type": "code",
   "execution_count": 130,
   "id": "2225c358",
   "metadata": {},
   "outputs": [
    {
     "data": {
      "text/plain": [
       "2672949123216"
      ]
     },
     "execution_count": 130,
     "metadata": {},
     "output_type": "execute_result"
    }
   ],
   "source": [
    "id(400)"
   ]
  },
  {
   "cell_type": "markdown",
   "id": "d5456bb2",
   "metadata": {},
   "source": [
    "# List Comprehension:"
   ]
  },
  {
   "cell_type": "code",
   "execution_count": 140,
   "id": "0db977cc",
   "metadata": {},
   "outputs": [
    {
     "name": "stdout",
     "output_type": "stream",
     "text": [
      "[12, 456]\n"
     ]
    }
   ],
   "source": [
    "r=[12,45,9,456,231,45,57]\n",
    "x=[i for i in r if i%2==0]\n",
    "print(x)"
   ]
  },
  {
   "cell_type": "code",
   "execution_count": 143,
   "id": "c6a488f0",
   "metadata": {},
   "outputs": [
    {
     "name": "stdout",
     "output_type": "stream",
     "text": [
      "[2, 4, 6, 8, 10]\n"
     ]
    }
   ],
   "source": [
    "w=[2,4,5,6,7,8,9,3,10]\n",
    "x=[i for i in w if i%2==0]\n",
    "print(x)"
   ]
  },
  {
   "cell_type": "code",
   "execution_count": 146,
   "id": "842c3ca3",
   "metadata": {},
   "outputs": [
    {
     "data": {
      "text/plain": [
       "[92, 115, 184, 2047]"
      ]
     },
     "execution_count": 146,
     "metadata": {},
     "output_type": "execute_result"
    }
   ],
   "source": [
    "e=[4,5,8,89]\n",
    "r=[i*23 for i in e]\n",
    "r"
   ]
  },
  {
   "cell_type": "code",
   "execution_count": 157,
   "id": "201b94fb",
   "metadata": {},
   "outputs": [
    {
     "data": {
      "text/plain": [
       "['SHOBHAN', 'SANJOY', 'SHRITU']"
      ]
     },
     "execution_count": 157,
     "metadata": {},
     "output_type": "execute_result"
    }
   ],
   "source": [
    "r=[\"shobhan\",\"sanjoy\",\"abhiselj\",\"aditya\",\"tanisji\",\"shritu\"]\n",
    "t=[d.upper() for d in r if d.startswith(\"s\") ]\n",
    "t"
   ]
  },
  {
   "cell_type": "markdown",
   "id": "bdc5fcb0",
   "metadata": {},
   "source": [
    "# List Comprehension:"
   ]
  },
  {
   "cell_type": "code",
   "execution_count": 159,
   "id": "719fba94",
   "metadata": {},
   "outputs": [
    {
     "data": {
      "text/plain": [
       "{'HGFHJ', 'JFKJ', 'R', 'W'}"
      ]
     },
     "execution_count": 159,
     "metadata": {},
     "output_type": "execute_result"
    }
   ],
   "source": [
    "s=['w','r','hgfhj','jfkj']\n",
    "t={d.upper() for d in s}\n",
    "t"
   ]
  },
  {
   "cell_type": "markdown",
   "id": "f6a67aea",
   "metadata": {},
   "source": [
    "# Dictionary Comrehension:"
   ]
  },
  {
   "cell_type": "code",
   "execution_count": 174,
   "id": "529dfb89",
   "metadata": {},
   "outputs": [
    {
     "data": {
      "text/plain": [
       "{1: 1, 7: 343, 8: 512, 96: 884736}"
      ]
     },
     "execution_count": 174,
     "metadata": {},
     "output_type": "execute_result"
    }
   ],
   "source": [
    "r=[1,7,8,96]\n",
    "d1={f:f**3 for f in r}\n",
    "d1"
   ]
  },
  {
   "cell_type": "code",
   "execution_count": 2,
   "id": "31869f1e",
   "metadata": {},
   "outputs": [
    {
     "name": "stdout",
     "output_type": "stream",
     "text": [
      "Best Estimator: MLPRegressor(activation='tanh', hidden_layer_sizes=100, max_iter=2000)\n",
      "Training score: 0.9683142015342331\n"
     ]
    },
    {
     "data": {
      "image/png": "[encoded data removed]",
      "text/plain": [
       "<Figure size 640x480 with 1 Axes>"
      ]
     },
     "metadata": {},
     "output_type": "display_data"
    }
   ],
   "source": [
    "import numpy as np\n",
    "import matplotlib.pyplot as plt\n",
    "import sklearn.neural_network as sklnn\n",
    "import sklearn.model_selection as sklms\n",
    "\n",
    "x=np.zeros((1000,2))\n",
    "x[:,0]=np.random.uniform(-10,10,1000)\n",
    "x[:,1]=np.random.uniform(-10,10,1000)\n",
    "y=np.log(1+np.abs(x[:,0]+x[:,1]))\n",
    "par={'hidden_layer_sizes':[(5),(10),(20),(50),(100)],'activation':['logistic','relu','tanh']}\n",
    "clf=sklnn.MLPRegressor(max_iter=2000)\n",
    "crvld=sklms.GridSearchCV(clf,par).fit(x,y)\n",
    "print(\"Best Estimator:\",crvld.best_estimator_)\n",
    "nn=sklnn.MLPRegressor(hidden_layer_sizes=(crvld.best_estimator_.hidden_layer_sizes,),activation=crvld.best_estimator_.activation,solver=\"adam\",max_iter=2000).fit(x,y)\n",
    "print(\"Training score:\",nn.score(x,y))\n",
    "x1=np.arange(-5,5.1,0.1)\n",
    "x2=np.arange(-5,5.1,0.1)\n",
    "X,Y=np.meshgrid(x1,x2)\n",
    "Z,Zp=np.zeros((101,101)),np.zeros((101,101))\n",
    "for i in range(101):\n",
    "    for j in range(101):\n",
    "        Z[i,j]=np.log(1+np.abs(X[i,j]+Y[i,j]))\n",
    "        Zp[i,j]=nn.predict([[X[i,j],Y[i,j]]])[0]\n",
    "ax=plt.axes(projection=\"3d\")\n",
    "ax.plot_surface(X,Y,Z,color=\"green\") #Actual function in green\n",
    "ax.plot_surface(X,Y,Zp,color=\"black\") #Predicted function in black\n",
    "plt.show()"
   ]
  },
  {
   "cell_type": "code",
   "execution_count": 43,
   "id": "62edfeaa",
   "metadata": {},
   "outputs": [
    {
     "name": "stdout",
     "output_type": "stream",
     "text": [
      "[2, 3]\n"
     ]
    }
   ],
   "source": [
    "def getsmall(x,d):\n",
    "    \n",
    "    small=[]\n",
    "    for i in x:\n",
    "        if i<d:\n",
    "            small.append(i)\n",
    "    return small\n",
    "x=[10,2,3,51,40]\n",
    "d=10 #put d outside the definition function....It'd be global\n",
    "print(getsmall(x,d))"
   ]
  },
  {
   "cell_type": "code",
   "execution_count": 44,
   "id": "e2913fef",
   "metadata": {},
   "outputs": [
    {
     "name": "stdout",
     "output_type": "stream",
     "text": [
      "[8, 3, 7]\n"
     ]
    }
   ],
   "source": [
    "def getSmaller(l,x):\n",
    "    \n",
    "    res = []\n",
    "    \n",
    "    for e in l:\n",
    "        if e<x:\n",
    "            res.append(e)\n",
    "    \n",
    "    return res\n",
    "    \n",
    "l = [8,100,20,40,3,7]\n",
    "x = 10\n",
    "print(getSmaller(l,x))\n",
    "            "
   ]
  },
  {
   "cell_type": "code",
   "execution_count": 50,
   "id": "fc87ff0b",
   "metadata": {},
   "outputs": [
    {
     "data": {
      "text/plain": [
       "[45, 100, 26, 65, 48]"
      ]
     },
     "execution_count": 50,
     "metadata": {},
     "output_type": "execute_result"
    }
   ],
   "source": [
    "def getlarger(s,f):\n",
    "    res=[]\n",
    "    for e in s:\n",
    "        if e>d:\n",
    "            res.append(e)\n",
    "    return res\n",
    "s=[4,45,100,26,65,48]\n",
    "f=49\n",
    "getlarger(s,f)"
   ]
  },
  {
   "cell_type": "code",
   "execution_count": 57,
   "id": "7719c7d6",
   "metadata": {},
   "outputs": [
    {
     "name": "stdout",
     "output_type": "stream",
     "text": [
      "[8, 3, 7]\n"
     ]
    }
   ],
   "source": [
    "def getSmaller(l,x):\n",
    "    \n",
    "    res = []\n",
    "    \n",
    "    for e in l:\n",
    "        if e<x:\n",
    "            res.append(e)\n",
    "    \n",
    "    return res\n",
    "    \n",
    "l = [8,100,20,40,3,7]\n",
    "x = 10\n",
    "print(getSmaller(l,x))\n",
    "            "
   ]
  },
  {
   "cell_type": "code",
   "execution_count": 65,
   "id": "c39d0ebd",
   "metadata": {},
   "outputs": [
    {
     "name": "stdout",
     "output_type": "stream",
     "text": [
      "6 ;\n",
      "2 ;\n",
      "5\n"
     ]
    }
   ],
   "source": [
    "some_list = [3,6,2,5]\n",
    "i = 1\n",
    "while i < 3:\n",
    " print(some_list[i], \";\")\n",
    " i = i + 1\n",
    "print(some_list[3])"
   ]
  },
  {
   "cell_type": "code",
   "execution_count": 66,
   "id": "a89cf887",
   "metadata": {},
   "outputs": [
    {
     "ename": "NameError",
     "evalue": "name 'raw_input' is not defined",
     "output_type": "error",
     "traceback": [
      "\u001b[1;31m---------------------------------------------------------------------------\u001b[0m",
      "\u001b[1;31mNameError\u001b[0m                                 Traceback (most recent call last)",
      "Cell \u001b[1;32mIn[66], line 34\u001b[0m\n\u001b[0;32m     29\u001b[0m \u001b[38;5;66;03m# We'll keep looping until we hit the max number of failures...\u001b[39;00m\n\u001b[0;32m     30\u001b[0m \u001b[38;5;66;03m# We need to break out of the loop when we get it correct also, see below.\u001b[39;00m\n\u001b[0;32m     32\u001b[0m \u001b[38;5;28;01mwhile\u001b[39;00m num_failures \u001b[38;5;241m<\u001b[39m MAX_FAILURES:\n\u001b[1;32m---> 34\u001b[0m     login \u001b[38;5;241m=\u001b[39m raw_input(\u001b[38;5;124m\"\u001b[39m\u001b[38;5;124mPlease enter the password: \u001b[39m\u001b[38;5;124m\"\u001b[39m)\n\u001b[0;32m     36\u001b[0m     \u001b[38;5;28;01mif\u001b[39;00m encrypt(login) \u001b[38;5;241m==\u001b[39m _KEY:\n\u001b[0;32m     37\u001b[0m         \u001b[38;5;28mprint\u001b[39m(\u001b[38;5;124m\"\u001b[39m\u001b[38;5;124mCorrect!\u001b[39m\u001b[38;5;124m\"\u001b[39m)\n",
      "\u001b[1;31mNameError\u001b[0m: name 'raw_input' is not defined"
     ]
    }
   ],
   "source": [
    "# login.py\n",
    "# Example solution for Lab 4, problem 1\n",
    "#\n",
    "# Aseem Kishore\n",
    "#\n",
    "# 6.189 - Intro to Python\n",
    "# IAP 2008 - Class 3\n",
    "\n",
    "\n",
    "# Some constants...\n",
    "\n",
    "LARGE_PRIME = 541\n",
    "_KEY = 171  # to get this number, I used the password \"solution\"\n",
    "MAX_FAILURES = 3    # stop when we hit this many failures\n",
    "\n",
    "\n",
    "# The encrypt function. Remember, functions shouldn't be asking for input or\n",
    "# printing their result. Any input a function needs (in this case, a string to\n",
    "# encrypt) should be passed in, and the output should be returned.\n",
    "\n",
    "def encrypt(text):\n",
    "    return hash(text) % LARGE_PRIME\n",
    "\n",
    "\n",
    "# Main program code\n",
    "\n",
    "num_failures = 0\n",
    "\n",
    "# We'll keep looping until we hit the max number of failures...\n",
    "# We need to break out of the loop when we get it correct also, see below.\n",
    "\n",
    "while num_failures < MAX_FAILURES:\n",
    "\n",
    "    login = raw_input(\"Please enter the password: \")\n",
    "\n",
    "    if encrypt(login) == _KEY:\n",
    "        print(\"Correct!\")\n",
    "        break   # remember, this breaks out of the current loop\n",
    "    else:\n",
    "        num_failures = num_failures + 1\n",
    "        print(\"Incorrect! You have failed\", num_failures, \"times.\")\n",
    "\n",
    "# When we get here, it's either because num_failures == MAX_FAILURES, or\n",
    "# because we hit the break statement (i.e. we got the correct login), so...\n",
    "\n",
    "if num_failures >= MAX_FAILURES:\n",
    "    print(\"Sorry, you have hit the maximum number of failures allowed.\") "
   ]
  },
  {
   "cell_type": "code",
   "execution_count": 69,
   "id": "2bfc2728",
   "metadata": {},
   "outputs": [
    {
     "name": "stdout",
     "output_type": "stream",
     "text": [
      "15.205295600000001\n",
      "15.205295600000001\n",
      "32.169881600000004\n"
     ]
    }
   ],
   "source": [
    "pi = 3.14159\n",
    "radius = 2.2\n",
    "# area of circle equation <- this is a comment\n",
    "area = pi*(radius**2)\n",
    "print(area)\n",
    "\n",
    "# change values of radius <- another comment\n",
    "# use comments to help others understand what you are doing in code\n",
    "radius = radius + 1\n",
    "print(area)     # area doesn't change\n",
    "area = pi*(radius**2)\n",
    "print(area)\n"
   ]
  },
  {
   "cell_type": "code",
   "execution_count": 70,
   "id": "ffdd1d4f",
   "metadata": {},
   "outputs": [],
   "source": [
    "#############################\n",
    "#### COMMENTING LINES #######\n",
    "#############################\n",
    "# to comment MANY lines at a time, highlight all of them then CTRL+1\n",
    "# do CTRL+1 again to uncomment them\n",
    "# try it on the next few lines below!\n",
    "\n",
    "#area = pi*(radius**2)\n",
    "#print(area)\n",
    "#radius = radius + 1\n",
    "#area = pi*(radius**2)\n",
    "#print(area)\n",
    "\n",
    "#############################\n",
    "#### AUTOCOMPLETE #######\n",
    "#############################\n",
    "Spyder can autocomplete names for you\n",
    "start typing a variable name defined in your program and hit tab \n",
    " before you finish typing -- try it below\n",
    "\n",
    "# define a variable\n",
    "a_very_long_variable_name_dont_name_them_this_long_pls = 0\n",
    "\n",
    "# below, start typing a_ve then hit tab... cool, right!\n",
    "# use autocomplete to change the value of that variable to 1\n",
    "\n",
    "# use autocomplete to write a line that prints the value of that long variable\n",
    "# notice that Spyder also automatically adds the closed parentheses for you!"
   ]
  },
  {
   "cell_type": "code",
   "execution_count": 73,
   "id": "0cc88bc7",
   "metadata": {},
   "outputs": [
    {
     "name": "stdout",
     "output_type": "stream",
     "text": [
      "hello thereana\n",
      "hello there ana\n",
      "hello there ana ana ana\n",
      "1\n",
      "my fav number is 1 . x= 1\n",
      "my fav number is 1.x=1\n",
      "my fav number is1.x=1\n"
     ]
    }
   ],
   "source": [
    "###################\n",
    "## EXAMPLE: strings \n",
    "###################\n",
    "hi = \"hello there\"\n",
    "name = \"ana\"\n",
    "greet = hi + name  \n",
    "print(greet)\n",
    "greeting = hi + \" \" + name\n",
    "print(greeting)\n",
    "silly = hi + (\" \" + name)*3\n",
    "print(silly)\n",
    "\n",
    "####################\n",
    "## EXAMPLE: output \n",
    "####################\n",
    "x = 1\n",
    "print(x)\n",
    "x_str = str(x)\n",
    "print(\"my fav number is\", x, \".\", \"x=\", x)\n",
    "print(\"my fav number is\", x_str + \".\" + \"x=\" + x_str)\n",
    "print(\"my fav number is\" + x_str + \".\" + \"x=\" + x_str)\n"
   ]
  },
  {
   "cell_type": "code",
   "execution_count": 1,
   "id": "1c99de21",
   "metadata": {},
   "outputs": [],
   "source": [
    "####################\n",
    "## EXAMPLE: input\n",
    "####################\n",
    "#text = input(\"Type anything... \")\n",
    "#print(5*text)\n",
    "#num = int(input(\"Type a number... \"))\n",
    "#print(5*num)\n",
    "\n",
    "\n",
    "####################\n",
    "## EXAMPLE: conditionals/branching \n",
    "####################\n",
    "#x = float(input(\"Enter a number for x: \"))\n",
    "#y = float(input(\"Enter a number for y: \"))\n",
    "#if x == y:\n",
    "#    print(\"x and y are equal\")\n",
    "#    if y != 0:\n",
    "#        print(\"therefore, x / y is\", x/y)\n",
    "#elif x < y:\n",
    "#    print(\"x is smaller\")\n",
    "#elif x > y:\n",
    "#    print(\"y is smaller\")\n",
    "#print(\"thanks!\")"
   ]
  },
  {
   "cell_type": "code",
   "execution_count": null,
   "id": "8e9f402a",
   "metadata": {},
   "outputs": [],
   "source": []
  }
 ],
 "metadata": {
  "kernelspec": {
   "display_name": "Python 3 (ipykernel)",
   "language": "python",
   "name": "python3"
  },
  "language_info": {
   "codemirror_mode": {
    "name": "ipython",
    "version": 3
   },
   "file_extension": ".py",
   "mimetype": "text/x-python",
   "name": "python",
   "nbconvert_exporter": "python",
   "pygments_lexer": "ipython3",
   "version": "3.11.5"
  }
 },
 "nbformat": 4,
 "nbformat_minor": 5
}
